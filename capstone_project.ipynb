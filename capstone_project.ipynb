{
 "cells": [
  {
   "cell_type": "markdown",
   "metadata": {},
   "source": [
    "# This notebook will be mainly used for the capstone project."
   ]
  },
  {
   "cell_type": "code",
   "execution_count": 1,
   "metadata": {},
   "outputs": [
    {
     "name": "stdout",
     "output_type": "stream",
     "text": [
      "Hello Capstone Project Course\n"
     ]
    }
   ],
   "source": [
    "import pandas as pd\n",
    "import numpy as np\n",
    "import matplotlib.pyplot as plt\n",
    "import warnings\n",
    "from sklearn import preprocessing\n",
    "import seaborn as sns\n",
    "from sklearn.utils import resample\n",
    "%matplotlib inline\n",
    "print(\"Hello Capstone Project Course\")"
   ]
  },
  {
   "cell_type": "markdown",
   "metadata": {},
   "source": [
    "# Introduction: Business Problem and Background\n",
    "Seattle being one of the fastest-growing major United States cities has recently been experiencing an increase in the number of road accidents. As such, this had caught an attention in key stakeholders within the Seattle Department of Transport (SDOT). Noting the City’s long-term vision of making Seattle one of the most liveable cities in the world, the SDOT want detailed insights on the car accident severity (fatality) considering key factors that might have contributed to the accident.  The findings will be very useful as they will enable stakeholders to deduce data-driven strategies to prevent future road accidents and thus, consequently saving lives."
   ]
  },
  {
   "cell_type": "markdown",
   "metadata": {},
   "source": [
    "# Description of the Data\n",
    "To solve this problem, the readily available shared “data-collision” dataset from SDOT will be used. The dataset has 38 attributes (columns), with the first column being the target column labelled “SEVERITYCODE”. The remaining 37 attributes are feature candidates to choose from when building the model. In total, the dataset contains 194 673 observations which are sufficient to train and test the machine learning model. The 37 attributes comprise categorial and numerical data. Key consideration will be taken when selecting feature columns, for instance, columns with very high numbers of missing values or are duplicates will be dropped e.g., SPEEDING (9333 non-null entries), EXCEPTRSNDESC (5638 non-null entries), PEDROWNOTGRNT (4667 non-null entries) and a duplicate column of SEVERITYCODE. On the other hand, feature columns including but not limited to weather condition (WEATHER), light conditions (LIGHTCOND), road condition (ROADCOND) junction type (JUNCTIONTYPE), number of people involved (PERSONCOUNT), number of vehicles involved (VEHCOUNT), and collision type (COLLISIONTYPE) will be viable candidates to consider when building the model. It is also worth noting that these columns have non-null values > 189 000. Finally, it is worth noting that the target label is very unbalanced ~ 7:3, hence the dataset needs to be balanced to avoid the effects of bias in the model.\n",
    "\n",
    "## Description of important attributes considered for model building \n",
    "| Attribute | Description|\n",
    "| --------- | -----------|\n",
    "| WEATHER | Weather conditions\n",
    "| ROADCOND | Road conditions\n",
    "| LIGHTCOND | Light conditions\n",
    "| UNDERINFL | Influence of drugs or alcohol status\n",
    "| JUNCTIONTYPE | Category of junction\n",
    "| VEHCOUNT | Number of vehicles involved\n",
    "| COLLISIONTYPE | Collision type\n",
    "| PERSONCOUNT | Total number of people involved\n",
    "| INCDTTM | Date and time of the incident\n",
    "| SEVERITYCODE | Severity code of the collision (1-property damage, 2-injury)"
   ]
  },
  {
   "cell_type": "markdown",
   "metadata": {},
   "source": [
    "### Methodology\n",
    "In this section, we present the methodology adopted in addressing the business problem utilizing the provided datasets from SDOT. In particular, we analyse the dataset to summarize the main characteristics. We perform descriptive statistical analysis to describe our data using e.g., describe(), value_counts(), and info() methods. This allows us to gain more insights about the nature of the data including types, missing data, and whether target classes are balanced or not (to avoid biased model). We then pre-process the selected features including:\n",
    "- Converting date and time to datetime object.\n",
    "- Dropping missing data since they were very few relative to the entire dataset.\n",
    "- Handling imbalanced classes by considering different techniques including 1) up-sample minority class, 2) down-sample majority class, 3) penalize algorithms and 4) tree-based algorithms. In this work, we adopted the down-sample approach since we had a very large dataset.\n",
    "- Handling categorial variables with many levels. We used a two-step approach of 1) combining levels (to filter out rare levels) using frequency distribution i.e., we examined frequency distribution of each level and combined levels having frequency less than 5% of total observation (this threshold is standard and can be changed based on the distribution) and 2) dummy coding the resulting categorial variables.\n",
    "- Data visualization of the resulting dataframe to examine the severity of the accidents at e.g., a particular day of the week considering a wide range of selected features (weather conditions, road conditions, light conditions, junction type).\n",
    "\n",
    "Finally, after data pre-processing stage, we used machine learning approaches to build a model that predicts (with the best accuracy) the accident severity and applied the following classification algorithms; Support Vector Machine (SVM), Decision Tree, K Nearest Neighbor (KNN), and Logistic Regression. "
   ]
  },
  {
   "cell_type": "code",
   "execution_count": 2,
   "metadata": {},
   "outputs": [],
   "source": [
    "#features = ['WEATHER', 'ROADCOND', 'LIGHTCOND', 'UNDERINFL', 'JUNCTIONTYPE', 'VEHCOUNT', 'COLLISIONTYPE', 'PERSONCOUNT', 'INCDATE','INCDTTM']\n",
    "features = ['WEATHER', 'ROADCOND', 'LIGHTCOND', 'JUNCTIONTYPE', 'VEHCOUNT','INCDTTM']"
   ]
  },
  {
   "cell_type": "code",
   "execution_count": 42,
   "metadata": {},
   "outputs": [],
   "source": [
    "# clean up the dataset to remove uncessary columns\n",
    "# feature selection: dataframe\n",
    "df = pd.read_csv(\"Data-Collisions.csv\")\n",
    "warnings.filterwarnings('ignore')\n",
    "\n",
    "# Reserve 1000 rows for unseen test data and remaining for train data\n",
    "df_test = df[0:1000]\n",
    "df_train = df[1000:11000] # reducing training dataset size\n",
    "df_test.to_csv(\"Data-Collisions_test.csv\") #unseen test set file\n",
    "df_train.to_csv(\"Data-Collisions_train.csv\") # training set file\n"
   ]
  },
  {
   "cell_type": "code",
   "execution_count": 4,
   "metadata": {},
   "outputs": [
    {
     "data": {
      "text/html": [
       "<div>\n",
       "<style scoped>\n",
       "    .dataframe tbody tr th:only-of-type {\n",
       "        vertical-align: middle;\n",
       "    }\n",
       "\n",
       "    .dataframe tbody tr th {\n",
       "        vertical-align: top;\n",
       "    }\n",
       "\n",
       "    .dataframe thead th {\n",
       "        text-align: right;\n",
       "    }\n",
       "</style>\n",
       "<table border=\"1\" class=\"dataframe\">\n",
       "  <thead>\n",
       "    <tr style=\"text-align: right;\">\n",
       "      <th></th>\n",
       "      <th>WEATHER</th>\n",
       "      <th>ROADCOND</th>\n",
       "      <th>LIGHTCOND</th>\n",
       "      <th>JUNCTIONTYPE</th>\n",
       "      <th>VEHCOUNT</th>\n",
       "      <th>INCDTTM</th>\n",
       "      <th>SEVERITYCODE</th>\n",
       "    </tr>\n",
       "  </thead>\n",
       "  <tbody>\n",
       "    <tr>\n",
       "      <th>0</th>\n",
       "      <td>Clear</td>\n",
       "      <td>Dry</td>\n",
       "      <td>Dark - Street Lights On</td>\n",
       "      <td>Mid-Block (not related to intersection)</td>\n",
       "      <td>1</td>\n",
       "      <td>11/21/2007 9:58:00 PM</td>\n",
       "      <td>2</td>\n",
       "    </tr>\n",
       "    <tr>\n",
       "      <th>1</th>\n",
       "      <td>Unknown</td>\n",
       "      <td>Unknown</td>\n",
       "      <td>Daylight</td>\n",
       "      <td>Mid-Block (not related to intersection)</td>\n",
       "      <td>2</td>\n",
       "      <td>8/13/2004 8:00:00 PM</td>\n",
       "      <td>1</td>\n",
       "    </tr>\n",
       "    <tr>\n",
       "      <th>2</th>\n",
       "      <td>Clear</td>\n",
       "      <td>Dry</td>\n",
       "      <td>Daylight</td>\n",
       "      <td>Mid-Block (not related to intersection)</td>\n",
       "      <td>2</td>\n",
       "      <td>5/14/2006 10:30:00 AM</td>\n",
       "      <td>1</td>\n",
       "    </tr>\n",
       "    <tr>\n",
       "      <th>3</th>\n",
       "      <td>Clear</td>\n",
       "      <td>Dry</td>\n",
       "      <td>Daylight</td>\n",
       "      <td>Mid-Block (not related to intersection)</td>\n",
       "      <td>3</td>\n",
       "      <td>3/28/2013 4:30:00 PM</td>\n",
       "      <td>1</td>\n",
       "    </tr>\n",
       "    <tr>\n",
       "      <th>4</th>\n",
       "      <td>Unknown</td>\n",
       "      <td>Unknown</td>\n",
       "      <td>Unknown</td>\n",
       "      <td>Mid-Block (not related to intersection)</td>\n",
       "      <td>2</td>\n",
       "      <td>6/13/2005 7:10:00 AM</td>\n",
       "      <td>1</td>\n",
       "    </tr>\n",
       "  </tbody>\n",
       "</table>\n",
       "</div>"
      ],
      "text/plain": [
       "   WEATHER ROADCOND                LIGHTCOND  \\\n",
       "0    Clear      Dry  Dark - Street Lights On   \n",
       "1  Unknown  Unknown                 Daylight   \n",
       "2    Clear      Dry                 Daylight   \n",
       "3    Clear      Dry                 Daylight   \n",
       "4  Unknown  Unknown                  Unknown   \n",
       "\n",
       "                              JUNCTIONTYPE  VEHCOUNT                INCDTTM  \\\n",
       "0  Mid-Block (not related to intersection)         1  11/21/2007 9:58:00 PM   \n",
       "1  Mid-Block (not related to intersection)         2   8/13/2004 8:00:00 PM   \n",
       "2  Mid-Block (not related to intersection)         2  5/14/2006 10:30:00 AM   \n",
       "3  Mid-Block (not related to intersection)         3   3/28/2013 4:30:00 PM   \n",
       "4  Mid-Block (not related to intersection)         2   6/13/2005 7:10:00 AM   \n",
       "\n",
       "   SEVERITYCODE  \n",
       "0             2  \n",
       "1             1  \n",
       "2             1  \n",
       "3             1  \n",
       "4             1  "
      ]
     },
     "execution_count": 4,
     "metadata": {},
     "output_type": "execute_result"
    }
   ],
   "source": [
    "# Reading training dataset\n",
    "df_train = pd.read_csv(\"Data-Collisions_train.csv\")\n",
    "y=df_train['SEVERITYCODE']\n",
    "df_train=df_train[features]\n",
    "df_train['SEVERITYCODE'] = y\n",
    "df_train.head()"
   ]
  },
  {
   "cell_type": "code",
   "execution_count": 5,
   "metadata": {},
   "outputs": [],
   "source": [
    "# convert to date time object\n",
    "#df['INCDATE'] = pd.to_datetime(df.INCDATE, errors='coerce') #errors='coerce' to handle non-sensical date data.\n",
    "df_train['INCDTTM'] = pd.to_datetime(df_train['INCDTTM'])\n",
    "df_train['DATE'] = df_train['INCDTTM'].dt.date # adding date only column\n",
    "df_train['TIME'] = df_train['INCDTTM'].dt.time # adding time only column\n",
    "df_train['DAYofWEEK'] =  pd.to_datetime(df_train['DATE']).dt.dayofweek # gets day of the week using df.dt.dayofweek\n",
    "df_train['WEEKEND'] = df_train['DAYofWEEK'].apply(lambda x: 1 if (x>3)  else 0)\n"
   ]
  },
  {
   "cell_type": "code",
   "execution_count": 6,
   "metadata": {},
   "outputs": [
    {
     "name": "stdout",
     "output_type": "stream",
     "text": [
      "(9806, 11)\n"
     ]
    }
   ],
   "source": [
    "# Identifying, Dropping NaNs or Missing values \n",
    "# Dropping Missing Values and reset the index:\n",
    "#print(df.shape)\n",
    "df_train.dropna(inplace = True)\n",
    "df_train.reset_index(drop = True, inplace = True)\n",
    "print(df_train.shape) \n",
    "#df.isnull().sum() # check to see how many null objects"
   ]
  },
  {
   "cell_type": "code",
   "execution_count": 7,
   "metadata": {},
   "outputs": [
    {
     "name": "stdout",
     "output_type": "stream",
     "text": [
      "<class 'pandas.core.frame.DataFrame'>\n",
      "RangeIndex: 9806 entries, 0 to 9805\n",
      "Data columns (total 11 columns):\n",
      " #   Column        Non-Null Count  Dtype         \n",
      "---  ------        --------------  -----         \n",
      " 0   WEATHER       9806 non-null   object        \n",
      " 1   ROADCOND      9806 non-null   object        \n",
      " 2   LIGHTCOND     9806 non-null   object        \n",
      " 3   JUNCTIONTYPE  9806 non-null   object        \n",
      " 4   VEHCOUNT      9806 non-null   int64         \n",
      " 5   INCDTTM       9806 non-null   datetime64[ns]\n",
      " 6   SEVERITYCODE  9806 non-null   int64         \n",
      " 7   DATE          9806 non-null   object        \n",
      " 8   TIME          9806 non-null   object        \n",
      " 9   DAYofWEEK     9806 non-null   int64         \n",
      " 10  WEEKEND       9806 non-null   int64         \n",
      "dtypes: datetime64[ns](1), int64(4), object(6)\n",
      "memory usage: 842.8+ KB\n"
     ]
    }
   ],
   "source": [
    "# Descriptive Statistical Analysis\n",
    "df_train.describe(include=['object']) # object\n",
    "df_train.describe() # numerical\n",
    "df_train.info() # types"
   ]
  },
  {
   "cell_type": "code",
   "execution_count": 8,
   "metadata": {},
   "outputs": [
    {
     "data": {
      "text/html": [
       "<div>\n",
       "<style scoped>\n",
       "    .dataframe tbody tr th:only-of-type {\n",
       "        vertical-align: middle;\n",
       "    }\n",
       "\n",
       "    .dataframe tbody tr th {\n",
       "        vertical-align: top;\n",
       "    }\n",
       "\n",
       "    .dataframe thead th {\n",
       "        text-align: right;\n",
       "    }\n",
       "</style>\n",
       "<table border=\"1\" class=\"dataframe\">\n",
       "  <thead>\n",
       "    <tr style=\"text-align: right;\">\n",
       "      <th></th>\n",
       "      <th>WEATHER</th>\n",
       "      <th>ROADCOND</th>\n",
       "      <th>LIGHTCOND</th>\n",
       "      <th>JUNCTIONTYPE</th>\n",
       "      <th>VEHCOUNT</th>\n",
       "      <th>INCDTTM</th>\n",
       "      <th>SEVERITYCODE</th>\n",
       "      <th>DATE</th>\n",
       "      <th>TIME</th>\n",
       "      <th>DAYofWEEK</th>\n",
       "      <th>WEEKEND</th>\n",
       "    </tr>\n",
       "  </thead>\n",
       "  <tbody>\n",
       "    <tr>\n",
       "      <th>0</th>\n",
       "      <td>Clear</td>\n",
       "      <td>Unknown</td>\n",
       "      <td>Unknown</td>\n",
       "      <td>Mid-Block (not related to intersection)</td>\n",
       "      <td>2</td>\n",
       "      <td>2004-01-25 12:00:00</td>\n",
       "      <td>1</td>\n",
       "      <td>2004-01-25</td>\n",
       "      <td>12:00:00</td>\n",
       "      <td>6</td>\n",
       "      <td>1</td>\n",
       "    </tr>\n",
       "    <tr>\n",
       "      <th>1</th>\n",
       "      <td>Clear</td>\n",
       "      <td>Dry</td>\n",
       "      <td>Daylight</td>\n",
       "      <td>Driveway Junction</td>\n",
       "      <td>2</td>\n",
       "      <td>2004-09-17 15:17:00</td>\n",
       "      <td>1</td>\n",
       "      <td>2004-09-17</td>\n",
       "      <td>15:17:00</td>\n",
       "      <td>4</td>\n",
       "      <td>1</td>\n",
       "    </tr>\n",
       "    <tr>\n",
       "      <th>2</th>\n",
       "      <td>Unknown</td>\n",
       "      <td>Unknown</td>\n",
       "      <td>Unknown</td>\n",
       "      <td>Mid-Block (not related to intersection)</td>\n",
       "      <td>2</td>\n",
       "      <td>2004-11-19 00:01:00</td>\n",
       "      <td>1</td>\n",
       "      <td>2004-11-19</td>\n",
       "      <td>00:01:00</td>\n",
       "      <td>4</td>\n",
       "      <td>1</td>\n",
       "    </tr>\n",
       "    <tr>\n",
       "      <th>3</th>\n",
       "      <td>Clear</td>\n",
       "      <td>Dry</td>\n",
       "      <td>Daylight</td>\n",
       "      <td>At Intersection (but not related to intersection)</td>\n",
       "      <td>2</td>\n",
       "      <td>2004-06-04 00:00:00</td>\n",
       "      <td>1</td>\n",
       "      <td>2004-06-04</td>\n",
       "      <td>00:00:00</td>\n",
       "      <td>4</td>\n",
       "      <td>1</td>\n",
       "    </tr>\n",
       "    <tr>\n",
       "      <th>4</th>\n",
       "      <td>Other</td>\n",
       "      <td>Unknown</td>\n",
       "      <td>Dark - Street Lights On</td>\n",
       "      <td>Mid-Block (not related to intersection)</td>\n",
       "      <td>2</td>\n",
       "      <td>2004-02-02 00:00:00</td>\n",
       "      <td>1</td>\n",
       "      <td>2004-02-02</td>\n",
       "      <td>00:00:00</td>\n",
       "      <td>0</td>\n",
       "      <td>0</td>\n",
       "    </tr>\n",
       "  </tbody>\n",
       "</table>\n",
       "</div>"
      ],
      "text/plain": [
       "   WEATHER ROADCOND                LIGHTCOND  \\\n",
       "0    Clear  Unknown                  Unknown   \n",
       "1    Clear      Dry                 Daylight   \n",
       "2  Unknown  Unknown                  Unknown   \n",
       "3    Clear      Dry                 Daylight   \n",
       "4    Other  Unknown  Dark - Street Lights On   \n",
       "\n",
       "                                        JUNCTIONTYPE  VEHCOUNT  \\\n",
       "0            Mid-Block (not related to intersection)         2   \n",
       "1                                  Driveway Junction         2   \n",
       "2            Mid-Block (not related to intersection)         2   \n",
       "3  At Intersection (but not related to intersection)         2   \n",
       "4            Mid-Block (not related to intersection)         2   \n",
       "\n",
       "              INCDTTM  SEVERITYCODE        DATE      TIME  DAYofWEEK  WEEKEND  \n",
       "0 2004-01-25 12:00:00             1  2004-01-25  12:00:00          6        1  \n",
       "1 2004-09-17 15:17:00             1  2004-09-17  15:17:00          4        1  \n",
       "2 2004-11-19 00:01:00             1  2004-11-19  00:01:00          4        1  \n",
       "3 2004-06-04 00:00:00             1  2004-06-04  00:00:00          4        1  \n",
       "4 2004-02-02 00:00:00             1  2004-02-02  00:00:00          0        0  "
      ]
     },
     "execution_count": 8,
     "metadata": {},
     "output_type": "execute_result"
    }
   ],
   "source": [
    "# Checking for imbalanced classes: to avoid bias in the model\n",
    "y_classes = df_train['SEVERITYCODE'] \n",
    "#y_classes.value_counts() # class 1 is majority and class 2 is minority\n",
    "df_majority = df_train[df_train.SEVERITYCODE==1]\n",
    "df_minority = df_train[df_train.SEVERITYCODE==2]\n",
    "\n",
    "# Technique 1: Downsample majority class: to match minority class\n",
    "df_majority_downsampled = resample(df_majority, \n",
    "                                replace=False,    # sample without replacement\n",
    "                               n_samples=df_minority.shape[0],     \n",
    "                               random_state=4) # reproducible results\n",
    "\n",
    "# Concatenate minority class with downsampled majority class\n",
    "df_downsampled = pd.concat([df_majority_downsampled, df_minority])\n",
    "\n",
    "# Show new class counts\n",
    "df_downsampled.SEVERITYCODE.value_counts()\n",
    "\n",
    "# Reset index\n",
    "df_downsampled.reset_index(drop=True, inplace = True)\n",
    "df_downsampled.head()"
   ]
  },
  {
   "cell_type": "code",
   "execution_count": 9,
   "metadata": {},
   "outputs": [],
   "source": [
    "# Function: combine levels using frequency distribution less than 5%\n",
    "# x: attribute (column of interest) -> string, df_downsample is the dataframe\n",
    "def combine_levels(df_downsampled, x, freq_thresh):\n",
    "    df_col = df_downsampled[x].values.tolist() # column of interest\n",
    "    df_freq = df_downsampled[x].value_counts(normalize = True) * 100\n",
    "    df_freq_index = []\n",
    "    for index in range(len(df_freq)):\n",
    "        if df_freq[index] <= freq_thresh:\n",
    "            df_freq_index.append(index)\n",
    "    return df_freq_index\n",
    "            "
   ]
  },
  {
   "cell_type": "code",
   "execution_count": 10,
   "metadata": {},
   "outputs": [],
   "source": [
    "# Handling categorial variables: combine-many-levels and then apply dummy-coding: Frequecny distribution approach\n",
    "x=['WEATHER', 'ROADCOND', 'LIGHTCOND', 'JUNCTIONTYPE','VEHCOUNT'] # variable to combine\n",
    "freq_thresh = 5\n",
    "# Lets first convert VEHCOUNT column to string: to access index as strings instead of int\n",
    "df_downsampled.VEHCOUNT = df_downsampled.VEHCOUNT.astype('str')\n",
    "# for loop to combine levels for different columns\n",
    "for i in range(len(x)):\n",
    "    df_x_freq = df_downsampled[x[i]].value_counts(normalize = True) * 100\n",
    "    df_freq_index = combine_levels(df_downsampled, x[i], freq_thresh) # calling function to get indices\n",
    "    df_x_freq_to_df = df_x_freq.to_frame() # converting to dataframe\n",
    "    f_index = df_x_freq_to_df.index.tolist() # getting the indice (names) as lists\n",
    "    replace_levels = f_index[min(df_freq_index):max(df_freq_index)+1] # levels to be replaced\n",
    "    df_downsampled[x[i]].replace(to_replace=replace_levels, value='Other',inplace=True) # replacing less frequent levels with one category\n",
    "    #df[x[i]].value_counts(normalize = True)\n"
   ]
  },
  {
   "cell_type": "code",
   "execution_count": 11,
   "metadata": {},
   "outputs": [
    {
     "data": {
      "text/html": [
       "<div>\n",
       "<style scoped>\n",
       "    .dataframe tbody tr th:only-of-type {\n",
       "        vertical-align: middle;\n",
       "    }\n",
       "\n",
       "    .dataframe tbody tr th {\n",
       "        vertical-align: top;\n",
       "    }\n",
       "\n",
       "    .dataframe thead th {\n",
       "        text-align: right;\n",
       "    }\n",
       "</style>\n",
       "<table border=\"1\" class=\"dataframe\">\n",
       "  <thead>\n",
       "    <tr style=\"text-align: right;\">\n",
       "      <th></th>\n",
       "      <th>WEATHER</th>\n",
       "      <th>ROADCOND</th>\n",
       "      <th>LIGHTCOND</th>\n",
       "      <th>JUNCTIONTYPE</th>\n",
       "      <th>VEHCOUNT</th>\n",
       "      <th>DAYofWEEK</th>\n",
       "      <th>WEEKEND</th>\n",
       "    </tr>\n",
       "  </thead>\n",
       "  <tbody>\n",
       "    <tr>\n",
       "      <th>0</th>\n",
       "      <td>Clear</td>\n",
       "      <td>Other</td>\n",
       "      <td>Other</td>\n",
       "      <td>Mid-Block (not related to intersection)</td>\n",
       "      <td>2</td>\n",
       "      <td>6</td>\n",
       "      <td>1</td>\n",
       "    </tr>\n",
       "    <tr>\n",
       "      <th>1</th>\n",
       "      <td>Clear</td>\n",
       "      <td>Dry</td>\n",
       "      <td>Daylight</td>\n",
       "      <td>Driveway Junction</td>\n",
       "      <td>2</td>\n",
       "      <td>4</td>\n",
       "      <td>1</td>\n",
       "    </tr>\n",
       "    <tr>\n",
       "      <th>2</th>\n",
       "      <td>Other</td>\n",
       "      <td>Other</td>\n",
       "      <td>Other</td>\n",
       "      <td>Mid-Block (not related to intersection)</td>\n",
       "      <td>2</td>\n",
       "      <td>4</td>\n",
       "      <td>1</td>\n",
       "    </tr>\n",
       "    <tr>\n",
       "      <th>3</th>\n",
       "      <td>Clear</td>\n",
       "      <td>Dry</td>\n",
       "      <td>Daylight</td>\n",
       "      <td>Other</td>\n",
       "      <td>2</td>\n",
       "      <td>4</td>\n",
       "      <td>1</td>\n",
       "    </tr>\n",
       "    <tr>\n",
       "      <th>4</th>\n",
       "      <td>Other</td>\n",
       "      <td>Other</td>\n",
       "      <td>Dark - Street Lights On</td>\n",
       "      <td>Mid-Block (not related to intersection)</td>\n",
       "      <td>2</td>\n",
       "      <td>0</td>\n",
       "      <td>0</td>\n",
       "    </tr>\n",
       "  </tbody>\n",
       "</table>\n",
       "</div>"
      ],
      "text/plain": [
       "  WEATHER ROADCOND                LIGHTCOND  \\\n",
       "0   Clear    Other                    Other   \n",
       "1   Clear      Dry                 Daylight   \n",
       "2   Other    Other                    Other   \n",
       "3   Clear      Dry                 Daylight   \n",
       "4   Other    Other  Dark - Street Lights On   \n",
       "\n",
       "                              JUNCTIONTYPE VEHCOUNT  DAYofWEEK  WEEKEND  \n",
       "0  Mid-Block (not related to intersection)        2          6        1  \n",
       "1                        Driveway Junction        2          4        1  \n",
       "2  Mid-Block (not related to intersection)        2          4        1  \n",
       "3                                    Other        2          4        1  \n",
       "4  Mid-Block (not related to intersection)        2          0        0  "
      ]
     },
     "execution_count": 11,
     "metadata": {},
     "output_type": "execute_result"
    }
   ],
   "source": [
    "#Selected Features before One Hot Encoding\n",
    "selected_features = ['WEATHER', 'ROADCOND', 'LIGHTCOND', 'JUNCTIONTYPE','VEHCOUNT', 'DAYofWEEK', 'WEEKEND']\n",
    "df_downsampled[selected_features].head()\n"
   ]
  },
  {
   "cell_type": "code",
   "execution_count": 12,
   "metadata": {},
   "outputs": [
    {
     "data": {
      "text/html": [
       "<div>\n",
       "<style scoped>\n",
       "    .dataframe tbody tr th:only-of-type {\n",
       "        vertical-align: middle;\n",
       "    }\n",
       "\n",
       "    .dataframe tbody tr th {\n",
       "        vertical-align: top;\n",
       "    }\n",
       "\n",
       "    .dataframe thead th {\n",
       "        text-align: right;\n",
       "    }\n",
       "</style>\n",
       "<table border=\"1\" class=\"dataframe\">\n",
       "  <thead>\n",
       "    <tr style=\"text-align: right;\">\n",
       "      <th></th>\n",
       "      <th>DAYofWEEK</th>\n",
       "      <th>WEEKEND</th>\n",
       "      <th>WEATHER_Clear</th>\n",
       "      <th>WEATHER_Other</th>\n",
       "      <th>WEATHER_Overcast</th>\n",
       "      <th>WEATHER_Raining</th>\n",
       "      <th>ROADCOND_Dry</th>\n",
       "      <th>ROADCOND_Other</th>\n",
       "      <th>ROADCOND_Wet</th>\n",
       "      <th>LIGHTCOND_Dark - Street Lights On</th>\n",
       "      <th>...</th>\n",
       "      <th>LIGHTCOND_Other</th>\n",
       "      <th>JUNCTIONTYPE_At Intersection (intersection related)</th>\n",
       "      <th>JUNCTIONTYPE_Driveway Junction</th>\n",
       "      <th>JUNCTIONTYPE_Mid-Block (but intersection related)</th>\n",
       "      <th>JUNCTIONTYPE_Mid-Block (not related to intersection)</th>\n",
       "      <th>JUNCTIONTYPE_Other</th>\n",
       "      <th>VEHCOUNT_1</th>\n",
       "      <th>VEHCOUNT_2</th>\n",
       "      <th>VEHCOUNT_3</th>\n",
       "      <th>VEHCOUNT_Other</th>\n",
       "    </tr>\n",
       "  </thead>\n",
       "  <tbody>\n",
       "    <tr>\n",
       "      <th>0</th>\n",
       "      <td>6</td>\n",
       "      <td>1</td>\n",
       "      <td>1</td>\n",
       "      <td>0</td>\n",
       "      <td>0</td>\n",
       "      <td>0</td>\n",
       "      <td>0</td>\n",
       "      <td>1</td>\n",
       "      <td>0</td>\n",
       "      <td>0</td>\n",
       "      <td>...</td>\n",
       "      <td>1</td>\n",
       "      <td>0</td>\n",
       "      <td>0</td>\n",
       "      <td>0</td>\n",
       "      <td>1</td>\n",
       "      <td>0</td>\n",
       "      <td>0</td>\n",
       "      <td>1</td>\n",
       "      <td>0</td>\n",
       "      <td>0</td>\n",
       "    </tr>\n",
       "    <tr>\n",
       "      <th>1</th>\n",
       "      <td>4</td>\n",
       "      <td>1</td>\n",
       "      <td>1</td>\n",
       "      <td>0</td>\n",
       "      <td>0</td>\n",
       "      <td>0</td>\n",
       "      <td>1</td>\n",
       "      <td>0</td>\n",
       "      <td>0</td>\n",
       "      <td>0</td>\n",
       "      <td>...</td>\n",
       "      <td>0</td>\n",
       "      <td>0</td>\n",
       "      <td>1</td>\n",
       "      <td>0</td>\n",
       "      <td>0</td>\n",
       "      <td>0</td>\n",
       "      <td>0</td>\n",
       "      <td>1</td>\n",
       "      <td>0</td>\n",
       "      <td>0</td>\n",
       "    </tr>\n",
       "    <tr>\n",
       "      <th>2</th>\n",
       "      <td>4</td>\n",
       "      <td>1</td>\n",
       "      <td>0</td>\n",
       "      <td>1</td>\n",
       "      <td>0</td>\n",
       "      <td>0</td>\n",
       "      <td>0</td>\n",
       "      <td>1</td>\n",
       "      <td>0</td>\n",
       "      <td>0</td>\n",
       "      <td>...</td>\n",
       "      <td>1</td>\n",
       "      <td>0</td>\n",
       "      <td>0</td>\n",
       "      <td>0</td>\n",
       "      <td>1</td>\n",
       "      <td>0</td>\n",
       "      <td>0</td>\n",
       "      <td>1</td>\n",
       "      <td>0</td>\n",
       "      <td>0</td>\n",
       "    </tr>\n",
       "    <tr>\n",
       "      <th>3</th>\n",
       "      <td>4</td>\n",
       "      <td>1</td>\n",
       "      <td>1</td>\n",
       "      <td>0</td>\n",
       "      <td>0</td>\n",
       "      <td>0</td>\n",
       "      <td>1</td>\n",
       "      <td>0</td>\n",
       "      <td>0</td>\n",
       "      <td>0</td>\n",
       "      <td>...</td>\n",
       "      <td>0</td>\n",
       "      <td>0</td>\n",
       "      <td>0</td>\n",
       "      <td>0</td>\n",
       "      <td>0</td>\n",
       "      <td>1</td>\n",
       "      <td>0</td>\n",
       "      <td>1</td>\n",
       "      <td>0</td>\n",
       "      <td>0</td>\n",
       "    </tr>\n",
       "    <tr>\n",
       "      <th>4</th>\n",
       "      <td>0</td>\n",
       "      <td>0</td>\n",
       "      <td>0</td>\n",
       "      <td>1</td>\n",
       "      <td>0</td>\n",
       "      <td>0</td>\n",
       "      <td>0</td>\n",
       "      <td>1</td>\n",
       "      <td>0</td>\n",
       "      <td>1</td>\n",
       "      <td>...</td>\n",
       "      <td>0</td>\n",
       "      <td>0</td>\n",
       "      <td>0</td>\n",
       "      <td>0</td>\n",
       "      <td>1</td>\n",
       "      <td>0</td>\n",
       "      <td>0</td>\n",
       "      <td>1</td>\n",
       "      <td>0</td>\n",
       "      <td>0</td>\n",
       "    </tr>\n",
       "  </tbody>\n",
       "</table>\n",
       "<p>5 rows × 21 columns</p>\n",
       "</div>"
      ],
      "text/plain": [
       "   DAYofWEEK  WEEKEND  WEATHER_Clear  WEATHER_Other  WEATHER_Overcast  \\\n",
       "0          6        1              1              0                 0   \n",
       "1          4        1              1              0                 0   \n",
       "2          4        1              0              1                 0   \n",
       "3          4        1              1              0                 0   \n",
       "4          0        0              0              1                 0   \n",
       "\n",
       "   WEATHER_Raining  ROADCOND_Dry  ROADCOND_Other  ROADCOND_Wet  \\\n",
       "0                0             0               1             0   \n",
       "1                0             1               0             0   \n",
       "2                0             0               1             0   \n",
       "3                0             1               0             0   \n",
       "4                0             0               1             0   \n",
       "\n",
       "   LIGHTCOND_Dark - Street Lights On  ...  LIGHTCOND_Other  \\\n",
       "0                                  0  ...                1   \n",
       "1                                  0  ...                0   \n",
       "2                                  0  ...                1   \n",
       "3                                  0  ...                0   \n",
       "4                                  1  ...                0   \n",
       "\n",
       "   JUNCTIONTYPE_At Intersection (intersection related)  \\\n",
       "0                                                  0     \n",
       "1                                                  0     \n",
       "2                                                  0     \n",
       "3                                                  0     \n",
       "4                                                  0     \n",
       "\n",
       "   JUNCTIONTYPE_Driveway Junction  \\\n",
       "0                               0   \n",
       "1                               1   \n",
       "2                               0   \n",
       "3                               0   \n",
       "4                               0   \n",
       "\n",
       "   JUNCTIONTYPE_Mid-Block (but intersection related)  \\\n",
       "0                                                  0   \n",
       "1                                                  0   \n",
       "2                                                  0   \n",
       "3                                                  0   \n",
       "4                                                  0   \n",
       "\n",
       "   JUNCTIONTYPE_Mid-Block (not related to intersection)  JUNCTIONTYPE_Other  \\\n",
       "0                                                  1                      0   \n",
       "1                                                  0                      0   \n",
       "2                                                  1                      0   \n",
       "3                                                  0                      1   \n",
       "4                                                  1                      0   \n",
       "\n",
       "   VEHCOUNT_1  VEHCOUNT_2  VEHCOUNT_3  VEHCOUNT_Other  \n",
       "0           0           1           0               0  \n",
       "1           0           1           0               0  \n",
       "2           0           1           0               0  \n",
       "3           0           1           0               0  \n",
       "4           0           1           0               0  \n",
       "\n",
       "[5 rows x 21 columns]"
      ]
     },
     "execution_count": 12,
     "metadata": {},
     "output_type": "execute_result"
    }
   ],
   "source": [
    "# One hot encoding to convert categorial variables to binary variables and append them to the feature dataframe\n",
    "df_selected_features = df_downsampled[selected_features]\n",
    "df_selected_features = pd.concat([df_selected_features,pd.get_dummies(df_downsampled[x])], axis=1)\n",
    "df_selected_features.drop(x, axis = 1,inplace=True)\n",
    "df_selected_features.head()\n",
    "#df_can.rename(columns={'OdName':'Country', 'AreaName':'Continent', 'RegName':'Region'}, inplace=True)"
   ]
  },
  {
   "cell_type": "code",
   "execution_count": 13,
   "metadata": {},
   "outputs": [],
   "source": [
    "# Renaming some columns to improve readability\n",
    "df_selected_features.rename(columns={'LIGHTCOND_Dark - Street Lights On':'LIGHTCOND_Dark_SLO', \n",
    "                                     'JUNCTIONTYPE_At Intersection (intersection related)':'JUNCTIONTYPE_INT', \n",
    "                                     'JUNCTIONTYPE_Driveway Junction':'JUNCTIONTYPE_DJ',\n",
    "                                    'JUNCTIONTYPE_Mid-Block (but intersection related)': 'JUNCTIONTYPE_MB_INT',\n",
    "                                    'JUNCTIONTYPE_Mid-Block (not related to intersection)':'JUNCTIONTYPE_MB'}, inplace=True)"
   ]
  },
  {
   "cell_type": "code",
   "execution_count": 14,
   "metadata": {},
   "outputs": [
    {
     "data": {
      "image/png": "[encoded data removed]",
      "text/plain": [
       "<Figure size 432x216 with 2 Axes>"
      ]
     },
     "metadata": {
      "needs_background": "light"
     },
     "output_type": "display_data"
    }
   ],
   "source": [
    "# Lets look at the severity of the accidents at a particular day of the week\n",
    "df_clean = pd.concat([df_selected_features,df_downsampled['SEVERITYCODE']], axis=1) # cleaned data\n",
    "bins = np.linspace(df_clean.DAYofWEEK.min(), df_clean.DAYofWEEK.max(), 10)\n",
    "g = sns.FacetGrid(df_clean, col = 'JUNCTIONTYPE_INT', hue=\"SEVERITYCODE\", palette=\"Set1\",col_wrap=2)\n",
    "g.map(plt.hist, 'DAYofWEEK', bins=bins, ec=\"k\")\n",
    "g.axes[-1].legend()\n",
    "plt.show()"
   ]
  },
  {
   "cell_type": "code",
   "execution_count": 15,
   "metadata": {},
   "outputs": [
    {
     "data": {
      "text/plain": [
       "Index(['DAYofWEEK', 'WEEKEND', 'WEATHER_Clear', 'WEATHER_Other',\n",
       "       'WEATHER_Overcast', 'WEATHER_Raining', 'ROADCOND_Dry', 'ROADCOND_Other',\n",
       "       'ROADCOND_Wet', 'LIGHTCOND_Dark_SLO', 'LIGHTCOND_Daylight',\n",
       "       'LIGHTCOND_Other', 'JUNCTIONTYPE_INT', 'JUNCTIONTYPE_DJ',\n",
       "       'JUNCTIONTYPE_MB_INT', 'JUNCTIONTYPE_MB', 'JUNCTIONTYPE_Other',\n",
       "       'VEHCOUNT_1', 'VEHCOUNT_2', 'VEHCOUNT_3', 'VEHCOUNT_Other',\n",
       "       'SEVERITYCODE'],\n",
       "      dtype='object')"
      ]
     },
     "execution_count": 15,
     "metadata": {},
     "output_type": "execute_result"
    }
   ],
   "source": [
    "df_clean.columns"
   ]
  },
  {
   "cell_type": "code",
   "execution_count": 16,
   "metadata": {},
   "outputs": [],
   "source": [
    "#Set X (features) and y (target) data: Normalize X data - drop DAYofWEEK to remove dependency in the independent variables\n",
    "X = df_clean.drop(['DAYofWEEK','SEVERITYCODE'], axis=1)\n",
    "X = preprocessing.StandardScaler().fit(X).transform(X.astype(float))\n",
    "y = df_clean['SEVERITYCODE']"
   ]
  },
  {
   "cell_type": "markdown",
   "metadata": {},
   "source": [
    "## Classification\n",
    "Now, we split the dataset into training set and test set to build the model with the best accuracy. We apply the following the algorithms:\n",
    "- Support Vector Machine (SVM)\n",
    "- Decision Tree\n",
    "- K Nearest Neighbor (KNN)\n",
    "- Logistic Regression\n",
    "\n",
    "For accuracy evaluation, we consider Jaccard and Log-loss (where applicable) evaluation scoring metrics."
   ]
  },
  {
   "cell_type": "code",
   "execution_count": 17,
   "metadata": {},
   "outputs": [
    {
     "name": "stdout",
     "output_type": "stream",
     "text": [
      "Train set: (4857, 20) (4857,)\n",
      "Test set: (1215, 20) (1215,)\n"
     ]
    }
   ],
   "source": [
    "# Train Test Split\n",
    "from sklearn.model_selection import train_test_split\n",
    "X_train, X_test, y_train, y_test = train_test_split( X, y, test_size=0.2, random_state=4)\n",
    "print ('Train set:', X_train.shape,  y_train.shape)\n",
    "print ('Test set:', X_test.shape,  y_test.shape)"
   ]
  },
  {
   "cell_type": "markdown",
   "metadata": {},
   "source": [
    "### Support Vector Machine"
   ]
  },
  {
   "cell_type": "code",
   "execution_count": 18,
   "metadata": {},
   "outputs": [],
   "source": [
    "# Classification: Importing the classifier and Accuracy Scoring Metrics\n",
    "from sklearn import svm\n",
    "from sklearn.metrics import jaccard_similarity_score as jss\n",
    "from sklearn.metrics import log_loss as lgl"
   ]
  },
  {
   "cell_type": "code",
   "execution_count": 19,
   "metadata": {},
   "outputs": [],
   "source": [
    "# Classification: Train and Predicting: We simply use radial basis function (rbf) kernel\n",
    "rbf_clf = svm.SVC(kernel='rbf', gamma='scale', probability=True)\n",
    "\n",
    "# Train (Fit) the model\n",
    "rbf_clf.fit(X_train, y_train) \n",
    "\n",
    "# Prediction\n",
    "yhat_rbf = rbf_clf.predict(X_test)\n",
    "yhat_prob_rbf = rbf_clf.predict_proba(X_test)"
   ]
  },
  {
   "cell_type": "code",
   "execution_count": 20,
   "metadata": {},
   "outputs": [],
   "source": [
    "# Classification: Accuracy evaluation\n",
    "num_dec=4 # Number of decimal points\n",
    "svm_eval_acc_jss = jss(y_test, yhat_rbf).round(num_dec)\n",
    "svm_eval_acc_lgl = lgl(y_test, yhat_prob_rbf).round(num_dec)"
   ]
  },
  {
   "cell_type": "code",
   "execution_count": 21,
   "metadata": {},
   "outputs": [
    {
     "name": "stdout",
     "output_type": "stream",
     "text": [
      "Jaccard: 0.6305\n",
      "Log-loss: 0.6504\n"
     ]
    }
   ],
   "source": [
    "print(\"Jaccard:\", svm_eval_acc_jss)\n",
    "print(\"Log-loss:\", svm_eval_acc_lgl )"
   ]
  },
  {
   "cell_type": "markdown",
   "metadata": {},
   "source": [
    "### Decision Tree"
   ]
  },
  {
   "cell_type": "code",
   "execution_count": 22,
   "metadata": {},
   "outputs": [],
   "source": [
    "# Classification: Importing the classifier \n",
    "from sklearn.tree import DecisionTreeClassifier"
   ]
  },
  {
   "cell_type": "code",
   "execution_count": 23,
   "metadata": {},
   "outputs": [],
   "source": [
    "# Classifier\n",
    "severityTree = DecisionTreeClassifier(criterion=\"entropy\", max_depth = 4)\n",
    "\n",
    "# Train (Fit) the model\n",
    "severityTree.fit(X_train,y_train)\n",
    "\n",
    "# Prediction\n",
    "predTree = severityTree.predict(X_test)"
   ]
  },
  {
   "cell_type": "code",
   "execution_count": 24,
   "metadata": {},
   "outputs": [],
   "source": [
    "# Classification: Accuracy evaluation\n",
    "dt_eval_acc_jss = jss(y_test, predTree).round(num_dec)"
   ]
  },
  {
   "cell_type": "code",
   "execution_count": 25,
   "metadata": {},
   "outputs": [
    {
     "name": "stdout",
     "output_type": "stream",
     "text": [
      "Jaccard: 0.628\n"
     ]
    }
   ],
   "source": [
    "print(\"Jaccard:\", dt_eval_acc_jss)"
   ]
  },
  {
   "cell_type": "markdown",
   "metadata": {},
   "source": [
    "### K Nearest Neighbor (KNN)"
   ]
  },
  {
   "cell_type": "code",
   "execution_count": 26,
   "metadata": {},
   "outputs": [],
   "source": [
    "# Classification: Importing the classifier\n",
    "from sklearn.neighbors import KNeighborsClassifier"
   ]
  },
  {
   "cell_type": "code",
   "execution_count": 27,
   "metadata": {},
   "outputs": [
    {
     "name": "stdout",
     "output_type": "stream",
     "text": [
      "The best accuracy with Jaccard score of 0.6099 with k= 5\n"
     ]
    }
   ],
   "source": [
    "# Calculate accuracy for different Ks and finding the best K\n",
    "Ks = 10\n",
    "num_dec = 4; # number of decimals\n",
    "knn_eval_acc_jss = np.zeros((Ks-1)) # to store evaluation accuracy using Jaccard index\n",
    "for n in range(1,Ks):\n",
    "    \n",
    "    #Train Model and Predict  \n",
    "    k_neigh = KNeighborsClassifier(n_neighbors = n).fit(X_train,y_train)\n",
    "    yhat=k_neigh.predict(X_test)\n",
    "    knn_eval_acc_jss[n-1] = jss(y_test, yhat)\n",
    "\n",
    "knn_best_jss = knn_eval_acc_jss.max().round(num_dec)\n",
    "print( \"The best accuracy with Jaccard score of\", knn_best_jss, \"with k=\", knn_eval_acc_jss.argmax()+1) # using argmax\n",
    "\n",
    "# Building model using the best k\n",
    "k_neigh = KNeighborsClassifier(n_neighbors = knn_eval_acc_jss.argmax()+1).fit(X_train,y_train)"
   ]
  },
  {
   "cell_type": "markdown",
   "metadata": {},
   "source": [
    "### Logistic Regression"
   ]
  },
  {
   "cell_type": "code",
   "execution_count": 28,
   "metadata": {},
   "outputs": [],
   "source": [
    "# Classification: Importing the classifier\n",
    "from sklearn.linear_model import LogisticRegression"
   ]
  },
  {
   "cell_type": "code",
   "execution_count": 29,
   "metadata": {},
   "outputs": [],
   "source": [
    "# Training (Fit) the model \n",
    "LR = LogisticRegression(C=0.01, solver='liblinear').fit(X_train,y_train)\n",
    "\n",
    "# Prediction\n",
    "yhat_LR = LR.predict(X_test)\n",
    "yhat_prob_LR = LR.predict_proba(X_test)"
   ]
  },
  {
   "cell_type": "code",
   "execution_count": 30,
   "metadata": {},
   "outputs": [],
   "source": [
    "# Classification: Accuracy evaluation\n",
    "lr_eval_acc_jss = jss(y_test, yhat_LR).round(num_dec)\n",
    "lr_eval_acc_lgl = lgl(y_test, yhat_prob_LR).round(num_dec)\n"
   ]
  },
  {
   "cell_type": "code",
   "execution_count": 31,
   "metadata": {},
   "outputs": [
    {
     "name": "stdout",
     "output_type": "stream",
     "text": [
      "Jaccard: 0.6395\n",
      "Log-loss: 0.6247\n"
     ]
    }
   ],
   "source": [
    "print(\"Jaccard:\", lr_eval_acc_jss)\n",
    "print(\"Log-loss:\", lr_eval_acc_lgl)"
   ]
  },
  {
   "cell_type": "markdown",
   "metadata": {},
   "source": [
    "### Model Evaluation using Unseen Test Data"
   ]
  },
  {
   "cell_type": "code",
   "execution_count": 32,
   "metadata": {},
   "outputs": [],
   "source": [
    "# Loading test data\n",
    "df_test = pd.read_csv(\"Data-Collisions_test.csv\")"
   ]
  },
  {
   "cell_type": "code",
   "execution_count": 33,
   "metadata": {},
   "outputs": [
    {
     "name": "stdout",
     "output_type": "stream",
     "text": [
      "(926, 11)\n"
     ]
    }
   ],
   "source": [
    "# Feature selection and Pre-processing (handling missing data)\n",
    "test_y=df_test['SEVERITYCODE']\n",
    "df_test=df_test[features]\n",
    "df_test['SEVERITYCODE'] = test_y\n",
    "# convert to date time object\n",
    "df_test['INCDTTM'] = pd.to_datetime(df_test['INCDTTM'])\n",
    "df_test['DATE'] = df_test['INCDTTM'].dt.date # adding date only column\n",
    "df_test['TIME'] = df_test['INCDTTM'].dt.time # adding time only column\n",
    "df_test['DAYofWEEK'] =  pd.to_datetime(df_test['DATE']).dt.dayofweek # gets day of the week using df.dt.dayofweek\n",
    "df_test['WEEKEND'] = df_test['DAYofWEEK'].apply(lambda x: 1 if (x>3)  else 0)\n",
    "\n",
    "# Identifying, Dropping NaNs or Missing values and reset the index:\n",
    "df_test.dropna(inplace = True)\n",
    "df_test.reset_index(drop = True, inplace = True)\n",
    "print(df_test.shape)"
   ]
  },
  {
   "cell_type": "code",
   "execution_count": 34,
   "metadata": {},
   "outputs": [],
   "source": [
    "# Handling categorial variables: combine-many-levels and then apply dummy-coding: Frequecny distribution approach\n",
    "# Lets first convert VEHCOUNT column to string: to access index as strings instead of int\n",
    "df_test.VEHCOUNT = df_test.VEHCOUNT.astype('str')\n",
    "# for loop to combine levels for different columns\n",
    "for i in range(len(x)):\n",
    "    df_x_freq = df_test[x[i]].value_counts(normalize = True) * 100\n",
    "    df_freq_index = combine_levels(df_test, x[i], freq_thresh) # calling function to get indices\n",
    "    df_x_freq_to_df = df_x_freq.to_frame() # converting to dataframe\n",
    "    f_index = df_x_freq_to_df.index.tolist() # getting the indice (names) as lists\n",
    "    replace_levels = f_index[min(df_freq_index):max(df_freq_index)+1] # levels to be replaced\n",
    "    df_test[x[i]].replace(to_replace=replace_levels, value='Other',inplace=True) # replacing less frequent levels"
   ]
  },
  {
   "cell_type": "code",
   "execution_count": 35,
   "metadata": {},
   "outputs": [
    {
     "data": {
      "text/html": [
       "<div>\n",
       "<style scoped>\n",
       "    .dataframe tbody tr th:only-of-type {\n",
       "        vertical-align: middle;\n",
       "    }\n",
       "\n",
       "    .dataframe tbody tr th {\n",
       "        vertical-align: top;\n",
       "    }\n",
       "\n",
       "    .dataframe thead th {\n",
       "        text-align: right;\n",
       "    }\n",
       "</style>\n",
       "<table border=\"1\" class=\"dataframe\">\n",
       "  <thead>\n",
       "    <tr style=\"text-align: right;\">\n",
       "      <th></th>\n",
       "      <th>DAYofWEEK</th>\n",
       "      <th>WEEKEND</th>\n",
       "      <th>WEATHER_Clear</th>\n",
       "      <th>WEATHER_Other</th>\n",
       "      <th>WEATHER_Overcast</th>\n",
       "      <th>WEATHER_Raining</th>\n",
       "      <th>WEATHER_Unknown</th>\n",
       "      <th>ROADCOND_Dry</th>\n",
       "      <th>ROADCOND_Other</th>\n",
       "      <th>ROADCOND_Unknown</th>\n",
       "      <th>...</th>\n",
       "      <th>LIGHTCOND_Other</th>\n",
       "      <th>JUNCTIONTYPE_At Intersection (intersection related)</th>\n",
       "      <th>JUNCTIONTYPE_Driveway Junction</th>\n",
       "      <th>JUNCTIONTYPE_Mid-Block (but intersection related)</th>\n",
       "      <th>JUNCTIONTYPE_Mid-Block (not related to intersection)</th>\n",
       "      <th>JUNCTIONTYPE_Other</th>\n",
       "      <th>VEHCOUNT_1</th>\n",
       "      <th>VEHCOUNT_2</th>\n",
       "      <th>VEHCOUNT_3</th>\n",
       "      <th>VEHCOUNT_Other</th>\n",
       "    </tr>\n",
       "  </thead>\n",
       "  <tbody>\n",
       "    <tr>\n",
       "      <th>0</th>\n",
       "      <td>2</td>\n",
       "      <td>0</td>\n",
       "      <td>0</td>\n",
       "      <td>0</td>\n",
       "      <td>1</td>\n",
       "      <td>0</td>\n",
       "      <td>0</td>\n",
       "      <td>0</td>\n",
       "      <td>0</td>\n",
       "      <td>0</td>\n",
       "      <td>...</td>\n",
       "      <td>0</td>\n",
       "      <td>1</td>\n",
       "      <td>0</td>\n",
       "      <td>0</td>\n",
       "      <td>0</td>\n",
       "      <td>0</td>\n",
       "      <td>0</td>\n",
       "      <td>1</td>\n",
       "      <td>0</td>\n",
       "      <td>0</td>\n",
       "    </tr>\n",
       "    <tr>\n",
       "      <th>1</th>\n",
       "      <td>2</td>\n",
       "      <td>0</td>\n",
       "      <td>0</td>\n",
       "      <td>0</td>\n",
       "      <td>0</td>\n",
       "      <td>1</td>\n",
       "      <td>0</td>\n",
       "      <td>0</td>\n",
       "      <td>0</td>\n",
       "      <td>0</td>\n",
       "      <td>...</td>\n",
       "      <td>0</td>\n",
       "      <td>0</td>\n",
       "      <td>0</td>\n",
       "      <td>0</td>\n",
       "      <td>1</td>\n",
       "      <td>0</td>\n",
       "      <td>0</td>\n",
       "      <td>1</td>\n",
       "      <td>0</td>\n",
       "      <td>0</td>\n",
       "    </tr>\n",
       "    <tr>\n",
       "      <th>2</th>\n",
       "      <td>3</td>\n",
       "      <td>0</td>\n",
       "      <td>0</td>\n",
       "      <td>0</td>\n",
       "      <td>1</td>\n",
       "      <td>0</td>\n",
       "      <td>0</td>\n",
       "      <td>1</td>\n",
       "      <td>0</td>\n",
       "      <td>0</td>\n",
       "      <td>...</td>\n",
       "      <td>0</td>\n",
       "      <td>0</td>\n",
       "      <td>0</td>\n",
       "      <td>0</td>\n",
       "      <td>1</td>\n",
       "      <td>0</td>\n",
       "      <td>0</td>\n",
       "      <td>0</td>\n",
       "      <td>1</td>\n",
       "      <td>0</td>\n",
       "    </tr>\n",
       "    <tr>\n",
       "      <th>3</th>\n",
       "      <td>4</td>\n",
       "      <td>1</td>\n",
       "      <td>1</td>\n",
       "      <td>0</td>\n",
       "      <td>0</td>\n",
       "      <td>0</td>\n",
       "      <td>0</td>\n",
       "      <td>1</td>\n",
       "      <td>0</td>\n",
       "      <td>0</td>\n",
       "      <td>...</td>\n",
       "      <td>0</td>\n",
       "      <td>0</td>\n",
       "      <td>0</td>\n",
       "      <td>0</td>\n",
       "      <td>1</td>\n",
       "      <td>0</td>\n",
       "      <td>0</td>\n",
       "      <td>0</td>\n",
       "      <td>1</td>\n",
       "      <td>0</td>\n",
       "    </tr>\n",
       "    <tr>\n",
       "      <th>4</th>\n",
       "      <td>2</td>\n",
       "      <td>0</td>\n",
       "      <td>0</td>\n",
       "      <td>0</td>\n",
       "      <td>0</td>\n",
       "      <td>1</td>\n",
       "      <td>0</td>\n",
       "      <td>0</td>\n",
       "      <td>0</td>\n",
       "      <td>0</td>\n",
       "      <td>...</td>\n",
       "      <td>0</td>\n",
       "      <td>1</td>\n",
       "      <td>0</td>\n",
       "      <td>0</td>\n",
       "      <td>0</td>\n",
       "      <td>0</td>\n",
       "      <td>0</td>\n",
       "      <td>1</td>\n",
       "      <td>0</td>\n",
       "      <td>0</td>\n",
       "    </tr>\n",
       "  </tbody>\n",
       "</table>\n",
       "<p>5 rows × 23 columns</p>\n",
       "</div>"
      ],
      "text/plain": [
       "   DAYofWEEK  WEEKEND  WEATHER_Clear  WEATHER_Other  WEATHER_Overcast  \\\n",
       "0          2        0              0              0                 1   \n",
       "1          2        0              0              0                 0   \n",
       "2          3        0              0              0                 1   \n",
       "3          4        1              1              0                 0   \n",
       "4          2        0              0              0                 0   \n",
       "\n",
       "   WEATHER_Raining  WEATHER_Unknown  ROADCOND_Dry  ROADCOND_Other  \\\n",
       "0                0                0             0               0   \n",
       "1                1                0             0               0   \n",
       "2                0                0             1               0   \n",
       "3                0                0             1               0   \n",
       "4                1                0             0               0   \n",
       "\n",
       "   ROADCOND_Unknown  ...  LIGHTCOND_Other  \\\n",
       "0                 0  ...                0   \n",
       "1                 0  ...                0   \n",
       "2                 0  ...                0   \n",
       "3                 0  ...                0   \n",
       "4                 0  ...                0   \n",
       "\n",
       "   JUNCTIONTYPE_At Intersection (intersection related)  \\\n",
       "0                                                  1     \n",
       "1                                                  0     \n",
       "2                                                  0     \n",
       "3                                                  0     \n",
       "4                                                  1     \n",
       "\n",
       "   JUNCTIONTYPE_Driveway Junction  \\\n",
       "0                               0   \n",
       "1                               0   \n",
       "2                               0   \n",
       "3                               0   \n",
       "4                               0   \n",
       "\n",
       "   JUNCTIONTYPE_Mid-Block (but intersection related)  \\\n",
       "0                                                  0   \n",
       "1                                                  0   \n",
       "2                                                  0   \n",
       "3                                                  0   \n",
       "4                                                  0   \n",
       "\n",
       "   JUNCTIONTYPE_Mid-Block (not related to intersection)  JUNCTIONTYPE_Other  \\\n",
       "0                                                  0                      0   \n",
       "1                                                  1                      0   \n",
       "2                                                  1                      0   \n",
       "3                                                  1                      0   \n",
       "4                                                  0                      0   \n",
       "\n",
       "   VEHCOUNT_1  VEHCOUNT_2  VEHCOUNT_3  VEHCOUNT_Other  \n",
       "0           0           1           0               0  \n",
       "1           0           1           0               0  \n",
       "2           0           0           1               0  \n",
       "3           0           0           1               0  \n",
       "4           0           1           0               0  \n",
       "\n",
       "[5 rows x 23 columns]"
      ]
     },
     "execution_count": 35,
     "metadata": {},
     "output_type": "execute_result"
    }
   ],
   "source": [
    "# One hot encoding to convert categorial variables to binary variables and append them to the feature dataframe\n",
    "test_df_selected_features = df_test[selected_features]\n",
    "test_df_selected_features = pd.concat([test_df_selected_features,pd.get_dummies(df_test[x])], axis=1)\n",
    "test_df_selected_features.drop(x, axis = 1,inplace=True)\n",
    "test_df_selected_features.head()"
   ]
  },
  {
   "cell_type": "code",
   "execution_count": 36,
   "metadata": {},
   "outputs": [],
   "source": [
    "# Renaming some columns to improve readability\n",
    "test_df_selected_features.rename(columns={'LIGHTCOND_Dark - Street Lights On':'LIGHTCOND_Dark_SLO', \n",
    "                                     'JUNCTIONTYPE_At Intersection (intersection related)':'JUNCTIONTYPE_INT', \n",
    "                                     'JUNCTIONTYPE_Driveway Junction':'JUNCTIONTYPE_DJ',\n",
    "                                    'JUNCTIONTYPE_Mid-Block (but intersection related)': 'JUNCTIONTYPE_MB_INT',\n",
    "                                    'JUNCTIONTYPE_Mid-Block (not related to intersection)':'JUNCTIONTYPE_MB'}, inplace=True)"
   ]
  },
  {
   "cell_type": "code",
   "execution_count": 37,
   "metadata": {},
   "outputs": [
    {
     "data": {
      "text/plain": [
       "Index(['DAYofWEEK', 'WEEKEND', 'WEATHER_Clear', 'WEATHER_Other',\n",
       "       'WEATHER_Overcast', 'WEATHER_Raining', 'ROADCOND_Dry', 'ROADCOND_Other',\n",
       "       'ROADCOND_Wet', 'LIGHTCOND_Dark_SLO', 'LIGHTCOND_Daylight',\n",
       "       'LIGHTCOND_Other', 'JUNCTIONTYPE_INT', 'JUNCTIONTYPE_DJ',\n",
       "       'JUNCTIONTYPE_MB_INT', 'JUNCTIONTYPE_MB', 'JUNCTIONTYPE_Other',\n",
       "       'VEHCOUNT_1', 'VEHCOUNT_2', 'VEHCOUNT_3', 'VEHCOUNT_Other',\n",
       "       'SEVERITYCODE'],\n",
       "      dtype='object')"
      ]
     },
     "execution_count": 37,
     "metadata": {},
     "output_type": "execute_result"
    }
   ],
   "source": [
    "df_clean.columns"
   ]
  },
  {
   "cell_type": "code",
   "execution_count": 38,
   "metadata": {},
   "outputs": [
    {
     "data": {
      "text/plain": [
       "Index(['DAYofWEEK', 'WEEKEND', 'WEATHER_Clear', 'WEATHER_Other',\n",
       "       'WEATHER_Overcast', 'WEATHER_Raining', 'WEATHER_Unknown',\n",
       "       'ROADCOND_Dry', 'ROADCOND_Other', 'ROADCOND_Unknown', 'ROADCOND_Wet',\n",
       "       'LIGHTCOND_Dark_SLO', 'LIGHTCOND_Daylight', 'LIGHTCOND_Other',\n",
       "       'JUNCTIONTYPE_INT', 'JUNCTIONTYPE_DJ', 'JUNCTIONTYPE_MB_INT',\n",
       "       'JUNCTIONTYPE_MB', 'JUNCTIONTYPE_Other', 'VEHCOUNT_1', 'VEHCOUNT_2',\n",
       "       'VEHCOUNT_3', 'VEHCOUNT_Other'],\n",
       "      dtype='object')"
      ]
     },
     "execution_count": 38,
     "metadata": {},
     "output_type": "execute_result"
    }
   ],
   "source": [
    "test_df_selected_features.columns"
   ]
  },
  {
   "cell_type": "code",
   "execution_count": 39,
   "metadata": {},
   "outputs": [
    {
     "data": {
      "text/plain": [
       "(926,)"
      ]
     },
     "execution_count": 39,
     "metadata": {},
     "output_type": "execute_result"
    }
   ],
   "source": [
    "#Set X (features) and y (target) data: Normalize X data - drop DAYofWEEK to remove dependency in the independent variables\n",
    "test_y = df_test['SEVERITYCODE']\n",
    "test_X = test_df_selected_features.drop(['DAYofWEEK','WEATHER_Unknown','ROADCOND_Unknown'], axis=1)\n",
    "test_X = preprocessing.StandardScaler().fit(test_X).transform(test_X.astype(float))\n",
    "test_X.shape\n",
    "test_y.shape"
   ]
  },
  {
   "cell_type": "code",
   "execution_count": 40,
   "metadata": {},
   "outputs": [
    {
     "name": "stdout",
     "output_type": "stream",
     "text": [
      "SVM Jaccard: 0.6037\n",
      "SVM Log-loss: 0.658\n",
      "DT Jaccard: 0.6058\n",
      "KNN Jaccard: 0.5832\n",
      "LL Jaccard: 0.6188\n",
      "LL Logloss-Score: 0.6397\n"
     ]
    }
   ],
   "source": [
    "# Evaluation using unseen test set: use the X_test (to predict and get yhat_test) and y_test (to evaluate accuracy) \n",
    "\n",
    "# SVM\n",
    "test_yhat_rbf = rbf_clf.predict(test_X)\n",
    "test_yhat_prob_svm = rbf_clf.predict_proba(test_X)\n",
    "svm_eval_jss= jss(test_y, test_yhat_rbf).round(num_dec)\n",
    "svm_eval_lgl = lgl(test_y, test_yhat_prob_svm).round(num_dec)\n",
    "print(\"SVM Jaccard:\", svm_eval_jss)\n",
    "print(\"SVM Log-loss:\", svm_eval_lgl)\n",
    "\n",
    "# Decision Tree\n",
    "test_predTree = severityTree.predict(test_X)\n",
    "dt_eval_jss= jss(test_y, test_predTree).round(num_dec)\n",
    "print(\"DT Jaccard:\", dt_eval_jss)\n",
    "\n",
    "\n",
    "# K-Nearest Neighbour\n",
    "test_yhat=k_neigh.predict(test_X)\n",
    "knn_eval_jss= jss(test_y, test_yhat).round(num_dec)\n",
    "print(\"KNN Jaccard:\", knn_eval_jss)\n",
    "\n",
    "\n",
    "# Logistic Regression\n",
    "test_yhat_LR = LR.predict(test_X)\n",
    "test_yhat_prob = LR.predict_proba(test_X)\n",
    "ll_eval_jss= jss(test_y, test_yhat_LR).round(num_dec)\n",
    "ll_eval_lgl = lgl(test_y, test_yhat_prob).round(num_dec)\n",
    "print(\"LL Jaccard:\", ll_eval_jss)\n",
    "print(\"LL Logloss-Score:\", ll_eval_lgl)"
   ]
  },
  {
   "cell_type": "markdown",
   "metadata": {},
   "source": [
    "### Summary: Algorithms and Evaluation Metrics"
   ]
  },
  {
   "cell_type": "code",
   "execution_count": 41,
   "metadata": {},
   "outputs": [
    {
     "data": {
      "text/html": [
       "<div>\n",
       "<style scoped>\n",
       "    .dataframe tbody tr th:only-of-type {\n",
       "        vertical-align: middle;\n",
       "    }\n",
       "\n",
       "    .dataframe tbody tr th {\n",
       "        vertical-align: top;\n",
       "    }\n",
       "\n",
       "    .dataframe thead th {\n",
       "        text-align: right;\n",
       "    }\n",
       "</style>\n",
       "<table border=\"1\" class=\"dataframe\">\n",
       "  <thead>\n",
       "    <tr style=\"text-align: right;\">\n",
       "      <th></th>\n",
       "      <th>Algorithm</th>\n",
       "      <th>Jaccard</th>\n",
       "      <th>Log-Loss</th>\n",
       "    </tr>\n",
       "  </thead>\n",
       "  <tbody>\n",
       "    <tr>\n",
       "      <th>0</th>\n",
       "      <td>SVM</td>\n",
       "      <td>0.6037</td>\n",
       "      <td>0.658</td>\n",
       "    </tr>\n",
       "    <tr>\n",
       "      <th>1</th>\n",
       "      <td>Decision Tree</td>\n",
       "      <td>0.6058</td>\n",
       "      <td>NA</td>\n",
       "    </tr>\n",
       "    <tr>\n",
       "      <th>2</th>\n",
       "      <td>KNN</td>\n",
       "      <td>0.5832</td>\n",
       "      <td>NA</td>\n",
       "    </tr>\n",
       "    <tr>\n",
       "      <th>3</th>\n",
       "      <td>Logistic Regression</td>\n",
       "      <td>0.6188</td>\n",
       "      <td>0.6397</td>\n",
       "    </tr>\n",
       "  </tbody>\n",
       "</table>\n",
       "</div>"
      ],
      "text/plain": [
       "             Algorithm  Jaccard Log-Loss\n",
       "0                  SVM   0.6037    0.658\n",
       "1        Decision Tree   0.6058       NA\n",
       "2                  KNN   0.5832       NA\n",
       "3  Logistic Regression   0.6188   0.6397"
      ]
     },
     "execution_count": 41,
     "metadata": {},
     "output_type": "execute_result"
    }
   ],
   "source": [
    "# Reporting using pandas dataframe\n",
    "data = {'Algorithm':['SVM','Decision Tree','KNN','Logistic Regression'], 'Jaccard':[svm_eval_jss, dt_eval_jss, knn_eval_jss, ll_eval_jss]\n",
    "        , 'Log-Loss':[svm_eval_lgl, 'NA', 'NA', ll_eval_lgl]}\n",
    "# Create DataFrame\n",
    "summary_df = pd.DataFrame(data)\n",
    "summary_df"
   ]
  },
  {
   "cell_type": "code",
   "execution_count": null,
   "metadata": {},
   "outputs": [],
   "source": []
  }
 ],
 "metadata": {
  "kernelspec": {
   "display_name": "Python 3",
   "language": "python",
   "name": "python3"
  },
  "language_info": {
   "codemirror_mode": {
    "name": "ipython",
    "version": 3
   },
   "file_extension": ".py",
   "mimetype": "text/x-python",
   "name": "python",
   "nbconvert_exporter": "python",
   "pygments_lexer": "ipython3",
   "version": "3.7.6"
  }
 },
 "nbformat": 4,
 "nbformat_minor": 4
}
